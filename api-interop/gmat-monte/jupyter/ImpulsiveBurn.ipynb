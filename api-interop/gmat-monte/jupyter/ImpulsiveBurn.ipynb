{
 "cells": [
  {
   "cell_type": "markdown",
   "metadata": {},
   "source": [
    "# GMAT Impulsive Burn Modeling\n",
    "This notebook provides a quick introduction to using the GMAT API to fire an Impulsive burn using the GMAT ImpulsiveBurn class. To proceed, we'll need to prepare the GMAT API for use."
   ]
  },
  {
   "cell_type": "code",
   "execution_count": 1,
   "metadata": {},
   "outputs": [],
   "source": [
    "# Load the GMAT API and initialize the GMAT engine\n",
    "from load_gmat import *\n",
    "# Load NumPy for convenience\n",
    "import numpy as np"
   ]
  },
  {
   "cell_type": "markdown",
   "metadata": {},
   "source": [
    "Impulsive burns in GMAT are applied to spacecraft.  When mass depletion is included, the spacecraft also needs a fuel tank, and the burn needs to have that tank set as the source for the mass depletion.  Accordingly, we need 3 objects: a fuel tank, an impulsive burn, and spacecraft object:"
   ]
  },
  {
   "cell_type": "code",
   "execution_count": 2,
   "metadata": {},
   "outputs": [],
   "source": [
    "tank = gmat.Construct(\"ChemicalTank\",\"FuelTank\")\n",
    "burn = gmat.Construct(\"ImpulsiveBurn\",\"Impulse\")\n",
    "sat = gmat.Construct(\"Spacecraft\",\"Sat\")"
   ]
  },
  {
   "cell_type": "markdown",
   "metadata": {},
   "source": [
    "The default impulsive burn has magnitude zero.  Instead, we'll apply a 100 m/s burn, set in the velocity direction in the following code.  This code also sets the burn to deplete mass, and sets the mass properties for the spacecraft and fuel so that the depletion can be compared to analytic checks."
   ]
  },
  {
   "cell_type": "code",
   "execution_count": 3,
   "metadata": {},
   "outputs": [],
   "source": [
    "# Use a 30 kg spacecraft\n",
    "sat.SetField(\"DryMass\", 30)\n",
    "# Add the fuel tank to the spacecraft's hardware\n",
    "sat.SetField(\"Tanks\",\"FuelTank\")\n",
    "\n",
    "# Use 20 kg of fuel\n",
    "tank.SetField(\"FuelMass\", 20)\n",
    "\n",
    "# Finally, set up the burn to deplete mass from the tank for a 100 m/s burn\n",
    "burn.SetField(\"DecrementMass\",True)\n",
    "burn.SetField(\"Tank\",\"FuelTank\")\n",
    "burn.SetField(\"Element1\", 0.1)"
   ]
  },
  {
   "cell_type": "markdown",
   "metadata": {},
   "source": [
    "The configuration here identifies the object connections, including some default settings like the space environment (that is, the solar system) and the spacecraft state. In GMAT, the underlying objects are connected together when the system is iniitalized.\n",
    "\n",
    "GMAT's impulsive burns are general purpose objects that can be applied to multiple spacecraft.  When running a GMAT script, the Maneuver command connects the burn to a specific spacecraft.  In the API, that connection needs to be made by passing the spacecraft into the burn object, using the SetRefObject() method.  That connection needs to be made before initialization so that the burn can build the coordinate system objects it needs to apply the maneuver when it fires.  \n",
    "\n",
    "The following code sets the spacecraft reference and initializes the components for use."
   ]
  },
  {
   "cell_type": "code",
   "execution_count": 4,
   "metadata": {},
   "outputs": [],
   "source": [
    "burn.SetRefObject(sat, sat.GetType(), sat.GetName())\n",
    "gmat.Initialize()"
   ]
  },
  {
   "cell_type": "markdown",
   "metadata": {},
   "source": [
    "Now that the components are configured, the maneuver can be applied, and its results displayed:"
   ]
  },
  {
   "cell_type": "code",
   "execution_count": 5,
   "metadata": {},
   "outputs": [
    {
     "name": "stdout",
     "output_type": "stream",
     "text": [
      "Before the Burn, the position and velocity are  [7100.    0. 1300.] [0.   7.35 1.  ]\n",
      "After the Burn, the position and velocity are  [7100.    0. 1300.] [0.         7.44908711 1.01348124]\n"
     ]
    }
   ],
   "source": [
    "# Initial position and velocity\n",
    "pos_i = np.array([sat.GetNumber(\"X\"), sat.GetNumber(\"Y\"), sat.GetNumber(\"Z\")])\n",
    "vel_i = np.array([sat.GetNumber(\"VX\"), sat.GetNumber(\"VY\"), sat.GetNumber(\"VZ\")])\n",
    "print(\"Before the Burn, the position and velocity are \", pos_i, vel_i)\n",
    "\n",
    "# Apply the impulse\n",
    "burn.Fire()\n",
    "\n",
    "# Final position and velocity\n",
    "pos_f = np.array([sat.GetNumber(\"X\"), sat.GetNumber(\"Y\"), sat.GetNumber(\"Z\")])\n",
    "vel_f = np.array([sat.GetNumber(\"VX\"), sat.GetNumber(\"VY\"), sat.GetNumber(\"VZ\")])\n",
    "print(\"After the Burn, the position and velocity are \", pos_f, vel_f)"
   ]
  },
  {
   "cell_type": "markdown",
   "metadata": {},
   "source": [
    "This is an impulsive maneuver, so the position did not change.  The applied delta-V is easy to check by differencing the velocity vectors and calculating the resulting magnitude:"
   ]
  },
  {
   "cell_type": "code",
   "execution_count": 6,
   "metadata": {},
   "outputs": [
    {
     "name": "stdout",
     "output_type": "stream",
     "text": [
      "The applied delta-V is  [0.         0.09908711 0.01348124] , with magnitude  0.10000000000000034\n"
     ]
    }
   ],
   "source": [
    "deltaVvec = vel_f - vel_i\n",
    "print (\"The applied delta-V is \", deltaVvec, \", with magnitude \", np.linalg.norm(deltaVvec))"
   ]
  },
  {
   "cell_type": "markdown",
   "metadata": {},
   "source": [
    "The mass depleted can also be checked.  GMAT uses the Tsiolkovsky rocket equation to calculate mass depletion for impulsive burns:\n",
    "\n",
    "$m_f = m_1 e^{- \\Delta V / v_e}$\n",
    "\n",
    "The exhaust velocity is determined by the specific impulse applied, in seconds, and the acceleration due to gravity used for the specific impulse:\n",
    "\n",
    "$v_e = I_{sp} g$\n",
    "\n",
    "The impulsive burn has the settings for these values:"
   ]
  },
  {
   "cell_type": "code",
   "execution_count": 7,
   "metadata": {},
   "outputs": [
    {
     "name": "stdout",
     "output_type": "stream",
     "text": [
      "The applied specific impulse is  300 s and the gravitational acceleration is  9.81 m/s^2\n"
     ]
    }
   ],
   "source": [
    "print(\"The applied specific impulse is \", burn.GetField(\"Isp\"), \"s and the gravitational acceleration is \", burn.GetField(\"GravitationalAccel\"), \"m/s^2\")"
   ]
  },
  {
   "cell_type": "markdown",
   "metadata": {},
   "source": [
    "The initial mass of the configuration is 50 kg: 20 kg of fuel in a 30 kg vehicle, so the expected mass after the impulse is"
   ]
  },
  {
   "cell_type": "code",
   "execution_count": 8,
   "metadata": {},
   "outputs": [
    {
     "name": "stdout",
     "output_type": "stream",
     "text": [
      "The expected final mass is  48.32959337772201\n",
      "GMAT shows the final mass as  48.32959337772201\n"
     ]
    }
   ],
   "source": [
    "# Apply the rocket equation, remembering that 0.1 km/s is 100 m/s\n",
    "mf = 50.0 * np.exp(-100 / (300 * 9.81))\n",
    "print(\"The expected final mass is \", mf)\n",
    "\n",
    "# Report the spacecraft total mass after the burn\n",
    "print(\"GMAT shows the final mass as \", sat.GetNumber(\"TotalMass\"))"
   ]
  },
  {
   "cell_type": "markdown",
   "metadata": {},
   "source": [
    "One subtlety of GMAT is the use of object clones in the system.  An example of that feature can be seen in this example.  The tank attached to the spacecraft is **a copy** of the tank that we configured above, so the original tank still has 20 kg of fuel.  The fuel mass remaining in the tank on the spacecraft is reported by retrieving the tank used in the maneuver and then accessing its data.  That tank is retrieved from the spacecraft using the GetRefObject() method.  Then, working from the retrieved fuel tank, we can access a report of the remaining fuel:"
   ]
  },
  {
   "cell_type": "code",
   "execution_count": 9,
   "metadata": {},
   "outputs": [
    {
     "name": "stdout",
     "output_type": "stream",
     "text": [
      "1.6704066222779872  kg of fuel was used, leaving  18.329593377722013  kg\n"
     ]
    }
   ],
   "source": [
    "tankused = sat.GetRefObject(gmat.FUEL_TANK, \"FuelTank\")\n",
    "\n",
    "# Finally, show the fuel usage and the fuel remaining\n",
    "fuelLeft = tankused.GetNumber(\"FuelMass\")\n",
    "print((20.0 - fuelLeft), \" kg of fuel was used, leaving \", fuelLeft, \" kg\")"
   ]
  },
  {
   "cell_type": "code",
   "execution_count": null,
   "metadata": {},
   "outputs": [],
   "source": []
  }
 ],
 "metadata": {
  "kernelspec": {
   "display_name": "Python 3",
   "language": "python",
   "name": "python3"
  },
  "language_info": {
   "codemirror_mode": {
    "name": "ipython",
    "version": 3
   },
   "file_extension": ".py",
   "mimetype": "text/x-python",
   "name": "python",
   "nbconvert_exporter": "python",
   "pygments_lexer": "ipython3",
   "version": "3.7.6"
  }
 },
 "nbformat": 4,
 "nbformat_minor": 4
}
