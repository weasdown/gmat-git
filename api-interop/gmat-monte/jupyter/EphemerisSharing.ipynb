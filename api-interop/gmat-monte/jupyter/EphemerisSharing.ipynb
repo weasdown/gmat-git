{
 "cells": [
  {
   "cell_type": "markdown",
   "metadata": {},
   "source": [
    "# Sharing Ephemerides between GMAT and MONTE\n",
    "GMAT and MONTE both provide users with the ability to write the position and velocity at a sequence of times to a file. These ephemerides can take several forms, ranging from Monte's Binary Object Archive (boa) to GMAT's support for STK ephemerides and CCSDS Orbit Ephemeris Messages (OEMs). Both programs share the SPICE SPK format in common, so that is the ephemeris format used to share trajectory data between the systems.\n",
    "\n",
    "  "
   ]
  },
  {
   "cell_type": "code",
   "execution_count": null,
   "metadata": {},
   "outputs": [],
   "source": [
    "import Monte as M\n",
    "import mpy.io.data as defaultData\n",
    "import mpy.traj.force.grav.basic as basicGrav\n",
    "from mpy.units import *\n",
    "import cristo"
   ]
  },
  {
   "cell_type": "code",
   "execution_count": null,
   "metadata": {},
   "outputs": [],
   "source": [
    "from load_gmat import *"
   ]
  },
  {
   "cell_type": "code",
   "execution_count": null,
   "metadata": {},
   "outputs": [],
   "source": [
    "# Load planetary ephemeris de405 from default data\n",
    "boa = defaultData.load( \"ephem/planet/de405\" )"
   ]
  },
  {
   "cell_type": "code",
   "execution_count": null,
   "metadata": {},
   "outputs": [],
   "source": [
    "# Build the gravity nodes connecting the spacecraft to the gravitational\n",
    "# bodies we want active.\n",
    "scName = \"mySc\"\n",
    "basicGrav.add( boa, scName, [ \"Sun\", \"Earth\", \"Moon\" ] )"
   ]
  },
  {
   "cell_type": "code",
   "execution_count": null,
   "metadata": {},
   "outputs": [],
   "source": [
    "# Define an initial state of a spacecraft using Conic elements\n",
    "radius = 6778.0 * km\n",
    "state = M.State(\n",
    "   boa, scName, 'Earth',\n",
    "   M.Conic.semiMajorAxis( radius ),\n",
    "   M.Conic.eccentricity( 0.0 ),\n",
    "   M.Conic.inclination( 5 * deg ),\n",
    "   M.Conic.argumentOfLatitude( 0 * deg),\n",
    "   M.Conic.longitudeOfNode( 0 * deg),\n",
    "   M.Conic.trueAnomaly( 0 * deg)\n",
    "   )"
   ]
  },
  {
   "cell_type": "code",
   "execution_count": null,
   "metadata": {},
   "outputs": [],
   "source": [
    "# Define which forces will act on the spacecraft during propagation.\n",
    "forces = [\n",
    "   M.GravityForce( boa, scName ),\n",
    "   ]"
   ]
  },
  {
   "cell_type": "code",
   "execution_count": null,
   "metadata": {},
   "outputs": [],
   "source": [
    "# Set up the beginning and end times for our scenario.\n",
    "beginTime = M.Epoch( \"01-JAN-2000 00:00:00 ET\" )\n",
    "endTime = M.Epoch( \"10-JAN-2000 00:00:00 ET\" )"
   ]
  },
  {
   "cell_type": "code",
   "execution_count": null,
   "metadata": {},
   "outputs": [],
   "source": [
    "# Add the initial state to the \"IntegState\"\n",
    "integState = M.IntegState(\n",
    "   boa,         # Model database used in integration\n",
    "   beginTime,   # Start time\n",
    "   endTime,     # End time\n",
    "   [],          # Events to trigger integration end (none)\n",
    "   scName,      # Spacecraft name\n",
    "   'Earth',     # Center body\n",
    "   'EME2000',   # Input frame\n",
    "   'EME2000',   # Integration frame\n",
    "   state,       # State initial conditions\n",
    "   forces,      # Forces which act on state\n",
    "   False,       # Integrate only partial derivatives (false)\n",
    "   [],          # Parameters to be used in partial derivative calculations (none)\n",
    "   []           # Partials tolerance scale factors (allows different partial\n",
    "                # derivatives to have different integration tolerances, none)\n",
    "   )\n",
    "\n",
    "# Add state to our propagation manager \"IntegSetup\"\n",
    "integ = M.IntegSetup( boa )\n",
    "integ.add( integState )"
   ]
  },
  {
   "cell_type": "code",
   "execution_count": null,
   "metadata": {},
   "outputs": [],
   "source": [
    "# Set up the propagator.\n",
    "prop = M.DivaPropagator( boa, \"DIVA\", integ )\n",
    "\n",
    "prop.create( boa, beginTime, endTime )"
   ]
  },
  {
   "cell_type": "code",
   "execution_count": null,
   "metadata": {},
   "outputs": [],
   "source": [
    "# Write SPK\n",
    "M.SpiceName.bodyInsert( -42, \"mySc\" )\n",
    "\n",
    "cristo.convert( boa, \"MySc.bsp\" )"
   ]
  },
  {
   "cell_type": "code",
   "execution_count": null,
   "metadata": {},
   "outputs": [],
   "source": []
  }
 ],
 "metadata": {
  "kernelspec": {
   "display_name": "Python 3",
   "language": "python",
   "name": "python3"
  },
  "language_info": {
   "codemirror_mode": {
    "name": "ipython",
    "version": 3
   },
   "file_extension": ".py",
   "mimetype": "text/x-python",
   "name": "python",
   "nbconvert_exporter": "python",
   "pygments_lexer": "ipython3",
   "version": "3.6.4"
  }
 },
 "nbformat": 4,
 "nbformat_minor": 2
}
